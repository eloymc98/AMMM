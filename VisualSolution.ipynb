{
 "cells": [
  {
   "cell_type": "code",
   "execution_count": 11,
   "metadata": {},
   "outputs": [],
   "source": [
    "import numpy as np\n",
    "import matplotlib.pyplot as plt"
   ]
  },
  {
   "cell_type": "code",
   "execution_count": 1,
   "metadata": {},
   "outputs": [
    {
     "ename": "NameError",
     "evalue": "name 'plt' is not defined",
     "output_type": "error",
     "traceback": [
      "\u001B[0;31m---------------------------------------------------------------------------\u001B[0m",
      "\u001B[0;31mNameError\u001B[0m                                 Traceback (most recent call last)",
      "\u001B[0;32m<ipython-input-1-395124d59871>\u001B[0m in \u001B[0;36m<module>\u001B[0;34m\u001B[0m\n\u001B[0;32m----> 1\u001B[0;31m \u001B[0mfigure\u001B[0m\u001B[0;34m,\u001B[0m \u001B[0maxes\u001B[0m \u001B[0;34m=\u001B[0m \u001B[0mplt\u001B[0m\u001B[0;34m.\u001B[0m\u001B[0msubplots\u001B[0m\u001B[0;34m(\u001B[0m\u001B[0;36m1\u001B[0m\u001B[0;34m,\u001B[0m \u001B[0mfigsize\u001B[0m \u001B[0;34m=\u001B[0m \u001B[0;34m(\u001B[0m\u001B[0;36m15\u001B[0m\u001B[0;34m,\u001B[0m \u001B[0;36m10\u001B[0m\u001B[0;34m)\u001B[0m\u001B[0;34m)\u001B[0m\u001B[0;34m\u001B[0m\u001B[0;34m\u001B[0m\u001B[0m\n\u001B[0m\u001B[1;32m      2\u001B[0m \u001B[0ma_circle\u001B[0m \u001B[0;34m=\u001B[0m \u001B[0mplt\u001B[0m\u001B[0;34m.\u001B[0m\u001B[0mCircle\u001B[0m\u001B[0;34m(\u001B[0m\u001B[0;34m(\u001B[0m\u001B[0;36m1\u001B[0m\u001B[0;34m,\u001B[0m\u001B[0;36m1\u001B[0m\u001B[0;34m)\u001B[0m\u001B[0;34m,\u001B[0m \u001B[0;36m2\u001B[0m\u001B[0;34m,\u001B[0m \u001B[0mfill\u001B[0m\u001B[0;34m=\u001B[0m\u001B[0;32mFalse\u001B[0m\u001B[0;34m)\u001B[0m\u001B[0;34m\u001B[0m\u001B[0;34m\u001B[0m\u001B[0m\n\u001B[1;32m      3\u001B[0m \u001B[0mb_circle\u001B[0m \u001B[0;34m=\u001B[0m \u001B[0mplt\u001B[0m\u001B[0;34m.\u001B[0m\u001B[0mCircle\u001B[0m\u001B[0;34m(\u001B[0m\u001B[0;34m(\u001B[0m\u001B[0;36m0\u001B[0m\u001B[0;34m,\u001B[0m\u001B[0;36m2\u001B[0m\u001B[0;34m)\u001B[0m\u001B[0;34m,\u001B[0m \u001B[0;36m2\u001B[0m\u001B[0;34m,\u001B[0m \u001B[0mfill\u001B[0m\u001B[0;34m=\u001B[0m\u001B[0;32mFalse\u001B[0m\u001B[0;34m)\u001B[0m\u001B[0;34m\u001B[0m\u001B[0;34m\u001B[0m\u001B[0m\n\u001B[1;32m      4\u001B[0m \u001B[0mc_circle\u001B[0m \u001B[0;34m=\u001B[0m \u001B[0mplt\u001B[0m\u001B[0;34m.\u001B[0m\u001B[0mCircle\u001B[0m\u001B[0;34m(\u001B[0m\u001B[0;34m(\u001B[0m\u001B[0;36m1\u001B[0m\u001B[0;34m,\u001B[0m\u001B[0;36m3\u001B[0m\u001B[0;34m)\u001B[0m\u001B[0;34m,\u001B[0m \u001B[0;36m4\u001B[0m\u001B[0;34m,\u001B[0m \u001B[0mfill\u001B[0m\u001B[0;34m=\u001B[0m\u001B[0;32mFalse\u001B[0m\u001B[0;34m)\u001B[0m\u001B[0;34m\u001B[0m\u001B[0;34m\u001B[0m\u001B[0m\n\u001B[1;32m      5\u001B[0m \u001B[0;34m\u001B[0m\u001B[0m\n",
      "\u001B[0;31mNameError\u001B[0m: name 'plt' is not defined"
     ]
    }
   ],
   "source": [
    "figure, axes = plt.subplots(1, figsize = (15, 10))\n",
    "a_circle = plt.Circle((1,1), 2, fill=False)\n",
    "b_circle = plt.Circle((0,2), 2, fill=False)\n",
    "c_circle = plt.Circle((1,3), 4, fill=False)\n",
    "\n",
    "d_circle = plt.Circle((1,1), 6, fill=False, ls='--')\n",
    "e_circle = plt.Circle((0,2), 6, fill=False, ls='--')\n",
    "f_circle = plt.Circle((1,3), 12, fill=False, ls='--')\n",
    "\n",
    "axes.add_artist(a_circle)\n",
    "axes.add_artist(b_circle)\n",
    "axes.add_artist(c_circle)\n",
    "axes.add_artist(d_circle)\n",
    "axes.add_artist(e_circle)\n",
    "axes.add_artist(f_circle)\n",
    "\n",
    "axes.set_aspect(1)\n",
    "axes = plt.gca()\n",
    "axes.set_xlim([-4,6])\n",
    "axes.set_ylim([-2,7.5])\n",
    "\n",
    "plt.plot([1, 0, 1], [1, 2, 3], 'ro', color=\"blue\", markersize=12)\n",
    "plt.plot([1, 2, 4, 1, 2, 0, 3, 2], [1, 3, 1, 2, 2, 1, 4, 4], 'ro', color=\"red\")\n",
    "\n",
    "plt.plot([1,0], [1,2], color='yellow')\n",
    "\n",
    "plt.plot([2,1], [3,3], color='green')\n",
    "plt.plot([2,1], [3,1], color='yellow')\n",
    "\n",
    "plt.plot([4,1], [1,3], color='green')\n",
    "plt.plot([4,0], [1,2], color='yellow')\n",
    "\n",
    "plt.plot([1,1], [2,1], color='green')\n",
    "plt.plot([1,0], [2,2], color='yellow')\n",
    "\n",
    "plt.plot([2,1], [2,3], color='green')\n",
    "plt.plot([2,0], [2,2], color='yellow')\n",
    "\n",
    "plt.plot([0,1], [1,3], color='green')\n",
    "plt.plot([0,0], [1,2], color='yellow')\n",
    "\n",
    "plt.plot([3,1], [4,1], color='green')\n",
    "plt.plot([3,0], [4,2], color='yellow')\n",
    "\n",
    "plt.plot([2,0], [4,2], color='green')\n",
    "plt.plot([2,1], [4,1], color='yellow')\n",
    "\n",
    "plt.title('Visual Solution')\n",
    "plt.show()"
   ]
  },
  {
   "cell_type": "code",
   "execution_count": null,
   "metadata": {},
   "outputs": [],
   "source": []
  }
 ],
 "metadata": {
  "kernelspec": {
   "display_name": "Python 3",
   "language": "python",
   "name": "python3"
  },
  "language_info": {
   "codemirror_mode": {
    "name": "ipython",
    "version": 3
   },
   "file_extension": ".py",
   "mimetype": "text/x-python",
   "name": "python",
   "nbconvert_exporter": "python",
   "pygments_lexer": "ipython3",
   "version": "3.9.0"
  }
 },
 "nbformat": 4,
 "nbformat_minor": 4
}